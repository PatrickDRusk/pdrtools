{
 "cells": [
  {
   "cell_type": "code",
   "execution_count": 20,
   "metadata": {
    "ExecuteTime": {
     "end_time": "2017-05-12T12:37:49.074570",
     "start_time": "2017-05-12T12:37:49.025856"
    },
    "collapsed": true,
    "run_control": {
     "frozen": false,
     "read_only": false
    }
   },
   "outputs": [],
   "source": [
    "from __future__ import absolute_import\n",
    "from __future__ import print_function\n",
    "from __future__ import division\n",
    "from __future__ import unicode_literals\n",
    "\n",
    "import pandas\n",
    "import numpy\n",
    "from instrumentz import contract as icontract\n",
    "from yamm import stats"
   ]
  },
  {
   "cell_type": "code",
   "execution_count": 2,
   "metadata": {
    "ExecuteTime": {
     "end_time": "2017-05-12T12:26:55.881336",
     "start_time": "2017-05-12T12:26:55.877636"
    },
    "collapsed": true
   },
   "outputs": [],
   "source": [
    "def convert_to_mins(p):\n",
    "    tup = p.to_timestamp().timetuple()\n",
    "    return (tup.tm_hour * 60) + tup.tm_min"
   ]
  },
  {
   "cell_type": "code",
   "execution_count": 11,
   "metadata": {
    "ExecuteTime": {
     "end_time": "2017-05-12T12:30:15.317727",
     "start_time": "2017-05-12T12:30:15.313641"
    },
    "collapsed": true
   },
   "outputs": [],
   "source": [
    "contract_name = 'CLF16_COMDTY'\n",
    "start = pandas.Period('2015-12-14', freq='B')\n",
    "end = pandas.Period('2015-12-18', freq='B')\n",
    "mins_spec = (15, 120)"
   ]
  },
  {
   "cell_type": "code",
   "execution_count": 12,
   "metadata": {
    "ExecuteTime": {
     "end_time": "2017-05-12T12:30:15.888307",
     "start_time": "2017-05-12T12:30:15.882538"
    },
    "collapsed": false
   },
   "outputs": [
    {
     "data": {
      "text/plain": [
       "PeriodIndex(['2015-12-14 00:00', '2015-12-14 00:01', '2015-12-14 00:02',\n",
       "             '2015-12-14 00:03', '2015-12-14 00:04', '2015-12-14 00:05',\n",
       "             '2015-12-14 00:06', '2015-12-14 00:07', '2015-12-14 00:08',\n",
       "             '2015-12-14 00:09', \n",
       "             ...\n",
       "             '2015-12-18 23:50', '2015-12-18 23:51', '2015-12-18 23:52',\n",
       "             '2015-12-18 23:53', '2015-12-18 23:54', '2015-12-18 23:55',\n",
       "             '2015-12-18 23:56', '2015-12-18 23:57', '2015-12-18 23:58',\n",
       "             '2015-12-18 23:59'],\n",
       "            dtype='int64', length=7200, freq='T')"
      ]
     },
     "execution_count": 12,
     "metadata": {},
     "output_type": "execute_result"
    }
   ],
   "source": [
    "index = pandas.period_range(start=(start.asfreq('D')-1), end=end, freq='T')[1:]\n",
    "index"
   ]
  },
  {
   "cell_type": "code",
   "execution_count": 14,
   "metadata": {
    "ExecuteTime": {
     "end_time": "2017-05-12T12:30:37.238443",
     "start_time": "2017-05-12T12:30:36.944756"
    },
    "collapsed": false
   },
   "outputs": [
    {
     "data": {
      "text/html": [
       "<div>\n",
       "<table border=\"1\" class=\"dataframe\">\n",
       "  <thead>\n",
       "    <tr style=\"text-align: right;\">\n",
       "      <th></th>\n",
       "      <th>value</th>\n",
       "      <th>volume</th>\n",
       "      <th>mins</th>\n",
       "    </tr>\n",
       "  </thead>\n",
       "  <tbody>\n",
       "    <tr>\n",
       "      <th>2015-12-14 00:00</th>\n",
       "      <td>35.538957</td>\n",
       "      <td>163</td>\n",
       "      <td>0</td>\n",
       "    </tr>\n",
       "    <tr>\n",
       "      <th>2015-12-14 00:01</th>\n",
       "      <td>35.577458</td>\n",
       "      <td>59</td>\n",
       "      <td>1</td>\n",
       "    </tr>\n",
       "    <tr>\n",
       "      <th>2015-12-14 00:02</th>\n",
       "      <td>35.597000</td>\n",
       "      <td>10</td>\n",
       "      <td>2</td>\n",
       "    </tr>\n",
       "    <tr>\n",
       "      <th>2015-12-14 00:03</th>\n",
       "      <td>35.577073</td>\n",
       "      <td>41</td>\n",
       "      <td>3</td>\n",
       "    </tr>\n",
       "    <tr>\n",
       "      <th>2015-12-14 00:04</th>\n",
       "      <td>35.579032</td>\n",
       "      <td>31</td>\n",
       "      <td>4</td>\n",
       "    </tr>\n",
       "  </tbody>\n",
       "</table>\n",
       "</div>"
      ],
      "text/plain": [
       "                      value  volume  mins\n",
       "2015-12-14 00:00  35.538957     163     0\n",
       "2015-12-14 00:01  35.577458      59     1\n",
       "2015-12-14 00:02  35.597000      10     2\n",
       "2015-12-14 00:03  35.577073      41     3\n",
       "2015-12-14 00:04  35.579032      31     4"
      ]
     },
     "execution_count": 14,
     "metadata": {},
     "output_type": "execute_result"
    }
   ],
   "source": [
    "df = icontract.factory(contract_name).get_vwap_data_df(index).loc[:, ('value', 'volume')]\n",
    "df = df[~numpy.isnan(df.value)]\n",
    "df.loc[:, 'mins'] = [convert_to_mins(p) for p in df.index]\n",
    "df.head()"
   ]
  },
  {
   "cell_type": "code",
   "execution_count": 16,
   "metadata": {
    "ExecuteTime": {
     "end_time": "2017-05-12T12:31:19.309279",
     "start_time": "2017-05-12T12:31:19.272260"
    },
    "collapsed": false
   },
   "outputs": [
    {
     "data": {
      "text/html": [
       "<div>\n",
       "<table border=\"1\" class=\"dataframe\">\n",
       "  <thead>\n",
       "    <tr style=\"text-align: right;\">\n",
       "      <th></th>\n",
       "      <th>value</th>\n",
       "      <th>volume</th>\n",
       "      <th>mins</th>\n",
       "      <th>date</th>\n",
       "      <th>grp</th>\n",
       "    </tr>\n",
       "  </thead>\n",
       "  <tbody>\n",
       "    <tr>\n",
       "      <th>2015-12-14 00:00</th>\n",
       "      <td>35.538957</td>\n",
       "      <td>163</td>\n",
       "      <td>0</td>\n",
       "      <td>2015-12-14</td>\n",
       "      <td>0</td>\n",
       "    </tr>\n",
       "    <tr>\n",
       "      <th>2015-12-14 00:01</th>\n",
       "      <td>35.577458</td>\n",
       "      <td>59</td>\n",
       "      <td>1</td>\n",
       "      <td>2015-12-14</td>\n",
       "      <td>0</td>\n",
       "    </tr>\n",
       "    <tr>\n",
       "      <th>2015-12-14 00:02</th>\n",
       "      <td>35.597000</td>\n",
       "      <td>10</td>\n",
       "      <td>2</td>\n",
       "      <td>2015-12-14</td>\n",
       "      <td>0</td>\n",
       "    </tr>\n",
       "    <tr>\n",
       "      <th>2015-12-14 00:03</th>\n",
       "      <td>35.577073</td>\n",
       "      <td>41</td>\n",
       "      <td>3</td>\n",
       "      <td>2015-12-14</td>\n",
       "      <td>0</td>\n",
       "    </tr>\n",
       "    <tr>\n",
       "      <th>2015-12-14 00:04</th>\n",
       "      <td>35.579032</td>\n",
       "      <td>31</td>\n",
       "      <td>4</td>\n",
       "      <td>2015-12-14</td>\n",
       "      <td>0</td>\n",
       "    </tr>\n",
       "  </tbody>\n",
       "</table>\n",
       "</div>"
      ],
      "text/plain": [
       "                      value  volume  mins        date  grp\n",
       "2015-12-14 00:00  35.538957     163     0  2015-12-14    0\n",
       "2015-12-14 00:01  35.577458      59     1  2015-12-14    0\n",
       "2015-12-14 00:02  35.597000      10     2  2015-12-14    0\n",
       "2015-12-14 00:03  35.577073      41     3  2015-12-14    0\n",
       "2015-12-14 00:04  35.579032      31     4  2015-12-14    0"
      ]
     },
     "execution_count": 16,
     "metadata": {},
     "output_type": "execute_result"
    }
   ],
   "source": [
    "foo = df.copy()\n",
    "mins = mins_spec[0]\n",
    "foo.loc[:, 'date'] = [dt.date() for dt in foo.index.to_timestamp()]\n",
    "grps = (foo.mins // mins).values\n",
    "foo.loc[:, 'grp'] = grps\n",
    "foo.head()"
   ]
  },
  {
   "cell_type": "code",
   "execution_count": 26,
   "metadata": {
    "ExecuteTime": {
     "end_time": "2017-05-12T12:41:22.753499",
     "start_time": "2017-05-12T12:41:22.442717"
    },
    "collapsed": false
   },
   "outputs": [
    {
     "data": {
      "text/html": [
       "<div>\n",
       "<table border=\"1\" class=\"dataframe\">\n",
       "  <thead>\n",
       "    <tr style=\"text-align: right;\">\n",
       "      <th></th>\n",
       "      <th>value</th>\n",
       "      <th>volume</th>\n",
       "    </tr>\n",
       "    <tr>\n",
       "      <th>date</th>\n",
       "      <th></th>\n",
       "      <th></th>\n",
       "    </tr>\n",
       "  </thead>\n",
       "  <tbody>\n",
       "    <tr>\n",
       "      <th>2015-12-14</th>\n",
       "      <td>36.184576</td>\n",
       "      <td>177</td>\n",
       "    </tr>\n",
       "    <tr>\n",
       "      <th>2015-12-15</th>\n",
       "      <td>36.808771</td>\n",
       "      <td>179</td>\n",
       "    </tr>\n",
       "    <tr>\n",
       "      <th>2015-12-16</th>\n",
       "      <td>35.665355</td>\n",
       "      <td>155</td>\n",
       "    </tr>\n",
       "    <tr>\n",
       "      <th>2015-12-17</th>\n",
       "      <td>34.821591</td>\n",
       "      <td>44</td>\n",
       "    </tr>\n",
       "  </tbody>\n",
       "</table>\n",
       "</div>"
      ],
      "text/plain": [
       "                value  volume\n",
       "date                         \n",
       "2015-12-14  36.184576     177\n",
       "2015-12-15  36.808771     179\n",
       "2015-12-16  35.665355     155\n",
       "2015-12-17  34.821591      44"
      ]
     },
     "execution_count": 26,
     "metadata": {},
     "output_type": "execute_result"
    }
   ],
   "source": [
    "grouping = foo.loc[:, ('date', 'value', 'volume', 'grp')].groupby('grp')\n",
    "for grp, fam in grouping:\n",
    "    florb = []\n",
    "    for dt, faz in fam.groupby('date'):\n",
    "        florb.append([dt, stats.wmean(faz['value'], faz['volume']), int(faz['volume'].sum())])\n",
    "    florb = pandas.DataFrame(florb, columns=['date', 'value', 'volume']).set_index('date')\n",
    "florb"
   ]
  },
  {
   "cell_type": "code",
   "execution_count": null,
   "metadata": {
    "collapsed": true
   },
   "outputs": [],
   "source": []
  }
 ],
 "metadata": {
  "kernelspec": {
   "display_name": "Python 2",
   "language": "python",
   "name": "python2"
  },
  "language_info": {
   "codemirror_mode": {
    "name": "ipython",
    "version": 2
   },
   "file_extension": ".py",
   "mimetype": "text/x-python",
   "name": "python",
   "nbconvert_exporter": "python",
   "pygments_lexer": "ipython2",
   "version": "2.7.11"
  }
 },
 "nbformat": 4,
 "nbformat_minor": 2
}
